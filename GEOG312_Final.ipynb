{
  "nbformat": 4,
  "nbformat_minor": 0,
  "metadata": {
    "colab": {
      "provenance": []
    },
    "kernelspec": {
      "name": "python3",
      "display_name": "Python 3"
    },
    "language_info": {
      "name": "python"
    }
  },
  "cells": [
    {
      "cell_type": "markdown",
      "source": [
        "1. Data Manipulation (5 points): Write a Python function that takes a list of lists representing\n",
        "points (latitude, longitude) and returns the average latitude and average longitude."
      ],
      "metadata": {
        "id": "Q1PajCqvXeQn"
      }
    },
    {
      "cell_type": "code",
      "execution_count": 39,
      "metadata": {
        "colab": {
          "base_uri": "https://localhost:8080/"
        },
        "id": "3EHkv3mldt1Q",
        "outputId": "3c4d96b9-c99b-475c-ca1e-5f0b1d51c0ab"
      },
      "outputs": [
        {
          "output_type": "stream",
          "name": "stdout",
          "text": [
            "Average Latitude: 40.0\n",
            "Average Longitude: -85.0\n"
          ]
        }
      ],
      "source": [
        "def average_latlong(points):\n",
        "    total_lat = 0\n",
        "    total_lon = 0\n",
        "    num_points = len(points)\n",
        "    for point in points:\n",
        "        total_lat += point[0]\n",
        "        total_lon += point[1]\n",
        "    avg_lat = total_lat / num_points\n",
        "    avg_lon = total_lon / num_points\n",
        "    return avg_lat, avg_lon\n",
        "points_list = [[35, -83], [40, -85], [45, -87]]\n",
        "average_latitude, average_longitude = average_latlong(points_list)\n",
        "print(f'Average Latitude: {average_latitude}')\n",
        "print(f'Average Longitude: {average_longitude}')\n"
      ]
    },
    {
      "cell_type": "markdown",
      "source": [
        "2. Conditional Statements (5 points): Write a Python program that reads a CSV file containing\n",
        "elevation data for points. The program should then identify and print the points with an elevation\n",
        "above a user-specified threshold."
      ],
      "metadata": {
        "id": "IgB61sDwXk2b"
      }
    },
    {
      "cell_type": "code",
      "source": [
        "import csv\n",
        "def filter_points_above_threshold(file_path, elevation_threshold):\n",
        "    try:\n",
        "        with open(elevation.csv, 'r') as csv_file:\n",
        "            csv_reader = csv.reader(csv_file)\n",
        "            for row in csv_reader:\n",
        "                    if elevation > elevation_threshold:\n",
        "                        print(f'Point: Latitude={latitude}, Longitude={longitude}, Elevation={elevation}')\n",
        "    except FileNotFoundError:\n",
        "        print(f\"Error: File '{file_path}' not found.\")\n",
        "csv_file = 'elevation.csv'\n",
        "user_threshold = float(input('Enter the elevation threshold: '))\n",
        "filter_points_above_threshold(csv_file, user_threshold)\n",
        "print(csv_file)"
      ],
      "metadata": {
        "colab": {
          "base_uri": "https://localhost:8080/",
          "height": 375
        },
        "id": "sjvMS1omkO7T",
        "outputId": "ee5d41e2-642e-4ca0-efc3-fdaabc57fc0e"
      },
      "execution_count": 36,
      "outputs": [
        {
          "name": "stdout",
          "output_type": "stream",
          "text": [
            "Enter the elevation threshold: 1\n"
          ]
        },
        {
          "output_type": "error",
          "ename": "NameError",
          "evalue": "ignored",
          "traceback": [
            "\u001b[0;31m---------------------------------------------------------------------------\u001b[0m",
            "\u001b[0;31mNameError\u001b[0m                                 Traceback (most recent call last)",
            "\u001b[0;32m<ipython-input-36-6f328b4b7bb8>\u001b[0m in \u001b[0;36m<cell line: 13>\u001b[0;34m()\u001b[0m\n\u001b[1;32m     11\u001b[0m \u001b[0mcsv_file\u001b[0m \u001b[0;34m=\u001b[0m \u001b[0;34m'elevation.csv'\u001b[0m\u001b[0;34m\u001b[0m\u001b[0;34m\u001b[0m\u001b[0m\n\u001b[1;32m     12\u001b[0m \u001b[0muser_threshold\u001b[0m \u001b[0;34m=\u001b[0m \u001b[0mfloat\u001b[0m\u001b[0;34m(\u001b[0m\u001b[0minput\u001b[0m\u001b[0;34m(\u001b[0m\u001b[0;34m'Enter the elevation threshold: '\u001b[0m\u001b[0;34m)\u001b[0m\u001b[0;34m)\u001b[0m\u001b[0;34m\u001b[0m\u001b[0;34m\u001b[0m\u001b[0m\n\u001b[0;32m---> 13\u001b[0;31m \u001b[0mfilter_points_above_threshold\u001b[0m\u001b[0;34m(\u001b[0m\u001b[0mcsv_file\u001b[0m\u001b[0;34m,\u001b[0m \u001b[0muser_threshold\u001b[0m\u001b[0;34m)\u001b[0m\u001b[0;34m\u001b[0m\u001b[0;34m\u001b[0m\u001b[0m\n\u001b[0m\u001b[1;32m     14\u001b[0m \u001b[0mprint\u001b[0m\u001b[0;34m(\u001b[0m\u001b[0mcsv_file\u001b[0m\u001b[0;34m)\u001b[0m\u001b[0;34m\u001b[0m\u001b[0;34m\u001b[0m\u001b[0m\n",
            "\u001b[0;32m<ipython-input-36-6f328b4b7bb8>\u001b[0m in \u001b[0;36mfilter_points_above_threshold\u001b[0;34m(file_path, elevation_threshold)\u001b[0m\n\u001b[1;32m      2\u001b[0m \u001b[0;32mdef\u001b[0m \u001b[0mfilter_points_above_threshold\u001b[0m\u001b[0;34m(\u001b[0m\u001b[0mfile_path\u001b[0m\u001b[0;34m,\u001b[0m \u001b[0melevation_threshold\u001b[0m\u001b[0;34m)\u001b[0m\u001b[0;34m:\u001b[0m\u001b[0;34m\u001b[0m\u001b[0;34m\u001b[0m\u001b[0m\n\u001b[1;32m      3\u001b[0m     \u001b[0;32mtry\u001b[0m\u001b[0;34m:\u001b[0m\u001b[0;34m\u001b[0m\u001b[0;34m\u001b[0m\u001b[0m\n\u001b[0;32m----> 4\u001b[0;31m         \u001b[0;32mwith\u001b[0m \u001b[0mopen\u001b[0m\u001b[0;34m(\u001b[0m\u001b[0melevation\u001b[0m\u001b[0;34m.\u001b[0m\u001b[0mcsv\u001b[0m\u001b[0;34m,\u001b[0m \u001b[0;34m'r'\u001b[0m\u001b[0;34m)\u001b[0m \u001b[0;32mas\u001b[0m \u001b[0mcsv_file\u001b[0m\u001b[0;34m:\u001b[0m\u001b[0;34m\u001b[0m\u001b[0;34m\u001b[0m\u001b[0m\n\u001b[0m\u001b[1;32m      5\u001b[0m             \u001b[0mcsv_reader\u001b[0m \u001b[0;34m=\u001b[0m \u001b[0mcsv\u001b[0m\u001b[0;34m.\u001b[0m\u001b[0mreader\u001b[0m\u001b[0;34m(\u001b[0m\u001b[0mcsv_file\u001b[0m\u001b[0;34m)\u001b[0m\u001b[0;34m\u001b[0m\u001b[0;34m\u001b[0m\u001b[0m\n\u001b[1;32m      6\u001b[0m             \u001b[0;32mfor\u001b[0m \u001b[0mrow\u001b[0m \u001b[0;32min\u001b[0m \u001b[0mcsv_reader\u001b[0m\u001b[0;34m:\u001b[0m\u001b[0;34m\u001b[0m\u001b[0;34m\u001b[0m\u001b[0m\n",
            "\u001b[0;31mNameError\u001b[0m: name 'elevation' is not defined"
          ]
        }
      ]
    },
    {
      "cell_type": "markdown",
      "source": [
        "3. Loops (5 points): Write a Python program that iterates through a dictionary containing county\n",
        "names and their corresponding population densities. The program should calculate and print the\n",
        "total population for all counties.\n",
        "(Hint: Use a random number generator or google the population of your chosen cities to create\n",
        "the values for the population density. Use 10 different city names.)"
      ],
      "metadata": {
        "id": "1_-OJBllXnv7"
      }
    },
    {
      "cell_type": "code",
      "source": [
        "def calculate_total_pop(county_popdens_dict):\n",
        "  total_pop = 0\n",
        "  for county, population_density in county_popdens_dict.items():\n",
        "        county_area = 1000\n",
        "        county_population = population_density * county_area\n",
        "        total_pop += county_population\n",
        "  return total_pop\n",
        "county_popdens_dict = {\n",
        "    'Middlesex': 900,\n",
        "    'Suffolk': 1000,\n",
        "    'Norfolk': 500,\n",
        "    'Worcester': 400,\n",
        "    'Berskhire': 100,\n",
        "    'Hampden': 100,\n",
        "    'Hampshire': 150,\n",
        "    'Franklin': 200,\n",
        "    'Bristol': 350,\n",
        "    'Plymouth': 400}\n",
        "total_population = calculate_total_pop(county_popdens_dict)\n",
        "print(f'Total population: {total_population}')"
      ],
      "metadata": {
        "colab": {
          "base_uri": "https://localhost:8080/"
        },
        "id": "PLQNsIczlEJh",
        "outputId": "f49f527a-5fb5-4e80-9953-a7e0a60db71d"
      },
      "execution_count": 31,
      "outputs": [
        {
          "output_type": "stream",
          "name": "stdout",
          "text": [
            "Total population: 4100000\n"
          ]
        }
      ]
    },
    {
      "cell_type": "markdown",
      "source": [
        "4. Functions with Arguments (5 points): Write a Python function that takes a shapefile path as\n",
        "input and returns its area in square kilometers."
      ],
      "metadata": {
        "id": "tBsAlvTlXrrO"
      }
    },
    {
      "cell_type": "code",
      "source": [
        "import geopandas as gpd\n",
        "def calculate_shp_area(shp_path):\n",
        "    try:\n",
        "        gdf = gpd.read_file(shp_path)\n",
        "        total_area_km2 = gdf.geometry.area.sum() / (10**6)\n",
        "        return total_area_km2\n",
        "    except FileNotFoundError:\n",
        "        print(f\"Error: File '{shp_path}' not found.\")\n",
        "        return None\n",
        "shapefile_path = 'States_shapefile.shx'\n",
        "area = calculate_shp_area(shapefile_path)\n",
        "if area is not None:\n",
        "    print(f'shapefile: {area:.2f} km2')"
      ],
      "metadata": {
        "colab": {
          "base_uri": "https://localhost:8080/"
        },
        "id": "CLF7JPtvrtMX",
        "outputId": "4b0c1848-3172-4064-fa26-f4163ea8d594"
      },
      "execution_count": 66,
      "outputs": [
        {
          "output_type": "stream",
          "name": "stdout",
          "text": [
            "shapefile: 0.00 km2\n"
          ]
        }
      ]
    },
    {
      "cell_type": "markdown",
      "source": [
        "5. Error Handling (5 points): Write a Python program that attempts to read a raster file. If the file\n",
        "is not found or invalid, the program should print a helpful error message and gracefully exit."
      ],
      "metadata": {
        "id": "nuIdro3YXzqL"
      }
    },
    {
      "cell_type": "code",
      "source": [
        "def read_raster(raster_ex):\n",
        "    try:\n",
        "        raster_dataset = gdal.Open(raster_ex)\n",
        "        if raster_dataset is None:\n",
        "            raise(\"Invalid raster file.\")\n",
        "        return raster_dataset\n",
        "    except FileNotFoundError:\n",
        "        print(f\"Error: File '{raster_ex}' not found.\")\n",
        "        return None\n",
        "    except Exception as e:\n",
        "        print(f\"Error: {e}\")\n",
        "        return None\n",
        "raster_ex = 'raster/file.tif'\n",
        "raster_data = read_raster(raster_ex)\n",
        "if raster_data is not None:\n",
        "    print(f\"Raster file: {raster_ex}\")\n",
        "else:\n",
        "    sys.exit(\"Example error message.\")\n"
      ],
      "metadata": {
        "colab": {
          "base_uri": "https://localhost:8080/",
          "height": 143
        },
        "id": "oWmaQUcIyIzA",
        "outputId": "f0aef75e-7dc7-4e49-894b-fa178e3461ab"
      },
      "execution_count": 6,
      "outputs": [
        {
          "output_type": "stream",
          "name": "stdout",
          "text": [
            "Error: exceptions must derive from BaseException\n"
          ]
        },
        {
          "output_type": "error",
          "ename": "SystemExit",
          "evalue": "ignored",
          "traceback": [
            "An exception has occurred, use %tb to see the full traceback.\n",
            "\u001b[0;31mSystemExit\u001b[0m\u001b[0;31m:\u001b[0m Example error message.\n"
          ]
        }
      ]
    },
    {
      "cell_type": "markdown",
      "source": [
        "6.\n",
        "Problem-Solving (10 points): You are tasked with creating a program to identify areas suitable\n",
        "for building a new solar farm. You have access to datasets for land cover, slope, and solar\n",
        "radiation. Describe the workflow of your program, including data preparation, analysis steps, and\n",
        "final output.\n"
      ],
      "metadata": {
        "id": "q7V5tqntXR8X"
      }
    },
    {
      "cell_type": "markdown",
      "source": [
        "To begin, we'll work with the landcover datasets. These datasets will inform us on what type of land is within the dataset. For example, bodies of water, grasslands, urban or industrial areas with lots of building and concrete coverage. Next we'll add the slope datasets and make sure they lines up with the landcover datasets. The slope datasets will allow us to see the slope of terrain. This part is crucial for our solar farm as we'll need to find flat land. Urban areas with plenty of buildings have a rigid slope and would only be suitable for small solar farms ontop of buildings and roofs. If we're looking to build an expansive solar farm, we'd want to look for a rural area with flat land. Next, we'll add the solar radiation datasets. Here we're looking for areas with large amounts of sun. Now we'll go through each dataset individually and filter out undesirable areas. For the landcover datasets, since we're not looking to build small solar farms ontop of buildings, we can filter out urban areas, as well as bodies of water, privately owned land, and uneven land. Next, with the slope datasets we'll simply filter out any land with uneven slopes regardless of landcover. Lastly, we'll filter the solar radiation datasets by focusing on the areas with the highest amounts of radiation. With the three pairs of datasets filtered, we'll be left with only areas of land that are flat, grassy, and experience large amounts of sunlight."
      ],
      "metadata": {
        "id": "AkdT5YQTWlaV"
      }
    },
    {
      "cell_type": "markdown",
      "source": [
        "7. Critical Thinking (10 points): You are given a shapefile of earthquake epicenters and a raster\n",
        "file of population density. Explain how you would use Python and GIS libraries to identify the\n",
        "areas most vulnerable to earthquake damage, considering both population density and proximity\n",
        "to epicenters."
      ],
      "metadata": {
        "id": "1apIOfElbK8L"
      }
    },
    {
      "cell_type": "markdown",
      "source": [
        "First we'll make sure the geopanda and matplotlib libraries are imported in order to read both the shapefile and raster file. We want to ensure the files are overlapping, so we have accurate representation of where population densities lay in regards to the epicenters and vice versa. Next we'll create circles around the epicenters that uses data of past earthquakes to determine the average size of earthquakes within a specific epicenter to visualize the potential size and range of an earthquake. With the boundaries we created to visualize potential earthquakes, we can then look at the overlapped raster file of population density, which will tell us how densely populated each boundary is. Next we can create a graduated heat map of the population densities, more blue signifying less dense areas and more red signifying denser areas. At this point we will have boundaries representing potential size of earthquakes around epicenters as well as shaded blue to red within the boundaries, allowing a viewer to easily distinguish between the most vulnerable areas and areas that are more safe."
      ],
      "metadata": {
        "id": "fO6WWoxTbOTg"
      }
    },
    {
      "cell_type": "markdown",
      "source": [
        "8. Critical Thinking (10 points): You are tasked with creating a visualization that shows the\n",
        "impacts of climate change on Tennessee agricultural production. You are given a dataset for\n",
        "precipitation, temperature, and crop output. How would you go about visualizing this in python\n",
        "and what analyses would need to be done to measure these impacts?"
      ],
      "metadata": {
        "id": "1JvDo4wVDVb8"
      }
    },
    {
      "cell_type": "markdown",
      "source": [
        "First we want to make sure both the Geopanda and Matplotlib libraries are imported. We can begin by filtering down the map to just show Tennessee. Next we can create a heat map for the temperature dataset. This will clearly show which parts of the state are warmer and where it's cooler. For the other two datasets we can use symbols to quantify the data. For the crop output dataset we first make sure it's lined up with the temperature dataset, then we can add points to the map that symbolize crop output, such as 1 point equals low crop output, up to 3 points symbolizing large crop output. Then, with the precipitation dataset, again making sure it's lined up with the other datasets, we can do the same, one symbol is equal to low precipitation and 3 symbols equals heavy precipitation. This will create a map that clearly distinguishes regions of Tennessee that accounts for temperature, crop output, and precipitation at the same time, allowing viewers to make educated inferences on the impacts of climate change."
      ],
      "metadata": {
        "id": "1MHArAenFuPO"
      }
    },
    {
      "cell_type": "markdown",
      "source": [
        "9. Geospatial Analysis (10 points): You have a shapefile of national parks and a raster file of\n",
        "deforestation rates. Design a Python program to calculate the total area of deforestation within\n",
        "each national park and identify the park with the highest deforestation rate."
      ],
      "metadata": {
        "id": "aVn56Qy8D0Ic"
      }
    },
    {
      "cell_type": "markdown",
      "source": [
        "Similar procedure as question 7, we'll start by importing both the geopanda and matplotlib libraries. Again making sure the files overlap so the deforestation rates matchup with the national parks. Next you would want to locate the national parks from the shapefile by naming them on the map and giving them a point to easily locate each. A graduated color map would also work well for this example, so creating a graduated color map over the deforestation raster file would work, darker areas signifying higher rates of deforestation and lighter colors signifying low rates. This will create a clear visual of national parks and deforestation rates making the parks easily distinguishable by deforestation rates. You could then create a table that lists the Parks by deforestation rates from top to bottom so that the viewer can see clear results incase there are any parks with thin margins on the map."
      ],
      "metadata": {
        "id": "7qpNrhlDD5H1"
      }
    },
    {
      "cell_type": "markdown",
      "source": [
        "10. Shapefile Visualization (10 points): Write a Python program to read a shapefile. Create a map\n",
        "showing the data points as colored polygons (anything other than circles). Each data point should\n",
        "be colored based on its magnitude (e.g., green for small (low), yellow for medium (average), red\n",
        "for large (high))."
      ],
      "metadata": {
        "id": "KAVgPRMPN4ir"
      }
    },
    {
      "cell_type": "code",
      "source": [
        "import geopandas as gpd\n",
        "import matplotlib.pyplot as plt\n",
        "num_earthquakes = 10\n",
        "min_magnitude = 3.0\n",
        "max_magnitude = 10.0\n",
        "color_thresholds = [3.0, 6.0, 10.0]\n",
        "color_labels = ['green', 'yellow', 'red']\n",
        "fig, ax = plt.subplots(figsize=(10, 8))\n",
        "plt.title('Earthquakes by Magnitude')\n",
        "plt.show()"
      ],
      "metadata": {
        "colab": {
          "base_uri": "https://localhost:8080/",
          "height": 699
        },
        "id": "pks0hTXDmFLj",
        "outputId": "8e6eb9f6-b846-4176-fb09-04490a84c958"
      },
      "execution_count": 24,
      "outputs": [
        {
          "output_type": "display_data",
          "data": {
            "text/plain": [
              "<Figure size 1000x800 with 1 Axes>"
            ],
            "image/png": "[encoded data removed]"
          },
          "metadata": {}
        }
      ]
    },
    {
      "cell_type": "markdown",
      "source": [
        "11. Raster Processing and Visualization (10 points): Write a Python program to read a raster file of\n",
        "precipitation data and apply a colormap to visualize the temperature variations. Add a legend to\n",
        "the map and ensure clear labels for axes and title."
      ],
      "metadata": {
        "id": "8DPm4gzPr6IV"
      }
    },
    {
      "cell_type": "code",
      "source": [
        "import matplotlib.pyplot as plt\n",
        "raster_file = 'precipitation.tif'\n",
        "cmap = Colormap('precipitation', ['red', 'green', 'yellow'])\n",
        "fig, ax = plt.subplots(figsize=(10, 8))\n",
        "plt.title('Precipitation')\n",
        "plt.show()"
      ],
      "metadata": {
        "colab": {
          "base_uri": "https://localhost:8080/",
          "height": 933
        },
        "id": "shUYsJpKuTjZ",
        "outputId": "16a7a59b-2c13-4572-bebf-73aba49b77a7"
      },
      "execution_count": 32,
      "outputs": [
        {
          "output_type": "error",
          "ename": "NameError",
          "evalue": "ignored",
          "traceback": [
            "\u001b[0;31m---------------------------------------------------------------------------\u001b[0m",
            "\u001b[0;31mNameError\u001b[0m                                 Traceback (most recent call last)",
            "\u001b[0;32m<ipython-input-32-e992f7755d0e>\u001b[0m in \u001b[0;36m<cell line: 8>\u001b[0;34m()\u001b[0m\n\u001b[1;32m      6\u001b[0m \u001b[0mcmap\u001b[0m \u001b[0;34m=\u001b[0m \u001b[0mLinearSegmentedColormap\u001b[0m\u001b[0;34m.\u001b[0m\u001b[0mfrom_list\u001b[0m\u001b[0;34m(\u001b[0m\u001b[0;34m'precipitation'\u001b[0m\u001b[0;34m,\u001b[0m \u001b[0;34m[\u001b[0m\u001b[0;34m'red'\u001b[0m\u001b[0;34m,\u001b[0m \u001b[0;34m'green'\u001b[0m\u001b[0;34m,\u001b[0m \u001b[0;34m'yellow'\u001b[0m\u001b[0;34m]\u001b[0m\u001b[0;34m)\u001b[0m\u001b[0;34m\u001b[0m\u001b[0;34m\u001b[0m\u001b[0m\n\u001b[1;32m      7\u001b[0m \u001b[0mfig\u001b[0m\u001b[0;34m,\u001b[0m \u001b[0max\u001b[0m \u001b[0;34m=\u001b[0m \u001b[0mplt\u001b[0m\u001b[0;34m.\u001b[0m\u001b[0msubplots\u001b[0m\u001b[0;34m(\u001b[0m\u001b[0mfigsize\u001b[0m\u001b[0;34m=\u001b[0m\u001b[0;34m(\u001b[0m\u001b[0;36m10\u001b[0m\u001b[0;34m,\u001b[0m \u001b[0;36m8\u001b[0m\u001b[0;34m)\u001b[0m\u001b[0;34m)\u001b[0m\u001b[0;34m\u001b[0m\u001b[0;34m\u001b[0m\u001b[0m\n\u001b[0;32m----> 8\u001b[0;31m \u001b[0mimg\u001b[0m \u001b[0;34m=\u001b[0m \u001b[0max\u001b[0m\u001b[0;34m.\u001b[0m\u001b[0mimshow\u001b[0m\u001b[0;34m(\u001b[0m\u001b[0mprecipitation_data\u001b[0m\u001b[0;34m,\u001b[0m \u001b[0mextent\u001b[0m\u001b[0;34m=\u001b[0m\u001b[0;34m[\u001b[0m\u001b[0mextent\u001b[0m\u001b[0;34m.\u001b[0m\u001b[0mleft\u001b[0m\u001b[0;34m,\u001b[0m \u001b[0mextent\u001b[0m\u001b[0;34m.\u001b[0m\u001b[0mright\u001b[0m\u001b[0;34m,\u001b[0m \u001b[0mextent\u001b[0m\u001b[0;34m.\u001b[0m\u001b[0mbottom\u001b[0m\u001b[0;34m,\u001b[0m \u001b[0mextent\u001b[0m\u001b[0;34m.\u001b[0m\u001b[0mtop\u001b[0m\u001b[0;34m]\u001b[0m\u001b[0;34m,\u001b[0m \u001b[0mcmap\u001b[0m\u001b[0;34m=\u001b[0m\u001b[0mcmap\u001b[0m\u001b[0;34m)\u001b[0m\u001b[0;34m\u001b[0m\u001b[0;34m\u001b[0m\u001b[0m\n\u001b[0m\u001b[1;32m      9\u001b[0m \u001b[0mcbar\u001b[0m \u001b[0;34m=\u001b[0m \u001b[0mColorbarBase\u001b[0m\u001b[0;34m(\u001b[0m\u001b[0maxins\u001b[0m\u001b[0;34m,\u001b[0m \u001b[0mcmap\u001b[0m\u001b[0;34m=\u001b[0m\u001b[0mcmap\u001b[0m\u001b[0;34m,\u001b[0m \u001b[0mnorm\u001b[0m\u001b[0;34m=\u001b[0m\u001b[0mNormalize\u001b[0m\u001b[0;34m(\u001b[0m\u001b[0mvmin\u001b[0m\u001b[0;34m=\u001b[0m\u001b[0mprecipitation_data\u001b[0m\u001b[0;34m.\u001b[0m\u001b[0mmin\u001b[0m\u001b[0;34m(\u001b[0m\u001b[0;34m)\u001b[0m\u001b[0;34m,\u001b[0m \u001b[0mvmax\u001b[0m\u001b[0;34m=\u001b[0m\u001b[0mprecipitation_data\u001b[0m\u001b[0;34m.\u001b[0m\u001b[0mmax\u001b[0m\u001b[0;34m(\u001b[0m\u001b[0;34m)\u001b[0m\u001b[0;34m)\u001b[0m\u001b[0;34m,\u001b[0m \u001b[0morientation\u001b[0m\u001b[0;34m=\u001b[0m\u001b[0;34m'vertical'\u001b[0m\u001b[0;34m,\u001b[0m \u001b[0mlabel\u001b[0m\u001b[0;34m=\u001b[0m\u001b[0;34m'Precipitation (mm)'\u001b[0m\u001b[0;34m)\u001b[0m\u001b[0;34m\u001b[0m\u001b[0;34m\u001b[0m\u001b[0m\n\u001b[1;32m     10\u001b[0m \u001b[0max\u001b[0m\u001b[0;34m.\u001b[0m\u001b[0mset_xlabel\u001b[0m\u001b[0;34m(\u001b[0m\u001b[0;34m'Longitude'\u001b[0m\u001b[0;34m)\u001b[0m\u001b[0;34m\u001b[0m\u001b[0;34m\u001b[0m\u001b[0m\n",
            "\u001b[0;31mNameError\u001b[0m: name 'precipitation_data' is not defined"
          ]
        },
        {
          "output_type": "display_data",
          "data": {
            "text/plain": [
              "<Figure size 1000x800 with 1 Axes>"
            ],
            "image/png": "[encoded data removed]"
          },
          "metadata": {}
        }
      ]
    },
    {
      "cell_type": "markdown",
      "source": [
        "3. Cartographic Design (10 points): Design a map showing the distribution of solar farms in\n",
        "west, middle, and east Tennessee. Create a raster layer that summarizes the total energy\n",
        "generated from the solar farms in each of these regions (it can be one raster layer). Discuss which\n",
        "region has the most solar production and why."
      ],
      "metadata": {
        "id": "ttuxLJ9CwIpN"
      }
    },
    {
      "cell_type": "markdown",
      "source": [
        "West Tennessee has the most solar production because it has more flat land in the region compared to middle and east Tennessee, allowing for more solar farms to be built as well as receiving more sunlight overall compared to the other regions because there is less mountain and tree cover."
      ],
      "metadata": {
        "id": "VtuPVyibweOy"
      }
    },
    {
      "cell_type": "markdown",
      "source": [
        "Develop a Python program that automates a repetitive GIS task you encountered during your\n",
        "project or coursework. Explain the task, your approach, and the benefits of automation.\n"
      ],
      "metadata": {
        "id": "yFcp4n-UxSgQ"
      }
    },
    {
      "cell_type": "code",
      "source": [],
      "metadata": {
        "id": "tBHEYaGAxW57"
      },
      "execution_count": null,
      "outputs": []
    }
  ]
}